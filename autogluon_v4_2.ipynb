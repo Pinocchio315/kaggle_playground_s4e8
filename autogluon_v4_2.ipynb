{
 "cells": [
  {
   "cell_type": "code",
   "execution_count": 1,
   "metadata": {},
   "outputs": [],
   "source": [
    "import numpy as np\n",
    "import pandas as pd\n",
    "from autogluon.tabular import TabularPredictor\n",
    "import warnings\n",
    "warnings.simplefilter(action='ignore', category=FutureWarning)\n",
    "\n",
    "train_path = './playground-series-s4e8/train.csv'\n",
    "test_path = './playground-series-s4e8/test.csv'\n",
    "sub_path = './playground-series-s4e8/sample_submission.csv'\n",
    "\n",
    "train_df = pd.read_csv(train_path).drop('id', axis=1)\n",
    "test_df = pd.read_csv(test_path).drop('id', axis=1)\n",
    "sub = pd.read_csv(sub_path)"
   ]
  },
  {
   "cell_type": "code",
   "execution_count": 2,
   "metadata": {},
   "outputs": [],
   "source": [
    "predictor = TabularPredictor.load(\"AutogluonModels/ag-20240830_102213\")"
   ]
  },
  {
   "cell_type": "code",
   "execution_count": 3,
   "metadata": {},
   "outputs": [
    {
     "data": {
      "text/plain": [
       "['LightGBMXT_BAG_L1',\n",
       " 'LightGBM_BAG_L1',\n",
       " 'RandomForestGini_BAG_L1',\n",
       " 'RandomForestEntr_BAG_L1',\n",
       " 'CatBoost_BAG_L1',\n",
       " 'ExtraTreesGini_BAG_L1',\n",
       " 'ExtraTreesEntr_BAG_L1',\n",
       " 'NeuralNetFastAI_BAG_L1',\n",
       " 'XGBoost_BAG_L1',\n",
       " 'NeuralNetTorch_BAG_L1',\n",
       " 'LightGBMLarge_BAG_L1',\n",
       " 'CatBoost_r177_BAG_L1',\n",
       " 'WeightedEnsemble_L2',\n",
       " 'LightGBMXT_BAG_L2',\n",
       " 'LightGBM_BAG_L2',\n",
       " 'RandomForestGini_BAG_L2',\n",
       " 'RandomForestEntr_BAG_L2',\n",
       " 'CatBoost_BAG_L2',\n",
       " 'ExtraTreesGini_BAG_L2',\n",
       " 'ExtraTreesEntr_BAG_L2',\n",
       " 'NeuralNetFastAI_BAG_L2',\n",
       " 'XGBoost_BAG_L2',\n",
       " 'WeightedEnsemble_L3',\n",
       " 'LightGBMXT_BAG_L3',\n",
       " 'LightGBM_BAG_L3',\n",
       " 'RandomForestGini_BAG_L3',\n",
       " 'RandomForestEntr_BAG_L3',\n",
       " 'CatBoost_BAG_L3',\n",
       " 'ExtraTreesGini_BAG_L3',\n",
       " 'ExtraTreesEntr_BAG_L3',\n",
       " 'NeuralNetFastAI_BAG_L3',\n",
       " 'XGBoost_BAG_L3',\n",
       " 'LightGBMLarge_BAG_L3',\n",
       " 'WeightedEnsemble_L4']"
      ]
     },
     "execution_count": 3,
     "metadata": {},
     "output_type": "execute_result"
    }
   ],
   "source": [
    "predictor.model_names()"
   ]
  },
  {
   "cell_type": "code",
   "execution_count": 5,
   "metadata": {},
   "outputs": [
    {
     "name": "stderr",
     "output_type": "stream",
     "text": [
      "/home/pinoc/automl/.gluonvenv/lib/python3.10/site-packages/torch/cuda/__init__.py:118: UserWarning: CUDA initialization: The NVIDIA driver on your system is too old (found version 11040). Please update your GPU driver by downloading and installing a new version from the URL: http://www.nvidia.com/Download/index.aspx Alternatively, go to: https://pytorch.org to install a PyTorch version that has been compiled with your version of the CUDA driver. (Triggered internally at ../c10/cuda/CUDAFunctions.cpp:108.)\n",
      "  return torch._C._cuda_getDeviceCount() > 0\n"
     ]
    }
   ],
   "source": [
    "result_1 = predictor.predict(test_df, model='WeightedEnsemble_L4')\n",
    "result_2 = predictor.predict(test_df, model='WeightedEnsemble_L3')\n",
    "result_3 = predictor.predict(test_df, model='RandomForestEntr_BAG_L2')\n",
    "result_4 = predictor.predict(test_df, model='ExtraTreesGini_BAG_L3')\n",
    "result_5 = predictor.predict(test_df, model='ExtraTreesEntr_BAG_L3')\n"
   ]
  },
  {
   "cell_type": "code",
   "execution_count": 15,
   "metadata": {},
   "outputs": [],
   "source": [
    "sub['class1'] = result_1\n",
    "sub['class2'] = result_2\n",
    "sub['class3'] = result_3\n",
    "sub['class4'] = result_4\n",
    "sub['class5'] = result_5"
   ]
  },
  {
   "cell_type": "code",
   "execution_count": 9,
   "metadata": {},
   "outputs": [
    {
     "data": {
      "text/html": [
       "<div>\n",
       "<style scoped>\n",
       "    .dataframe tbody tr th:only-of-type {\n",
       "        vertical-align: middle;\n",
       "    }\n",
       "\n",
       "    .dataframe tbody tr th {\n",
       "        vertical-align: top;\n",
       "    }\n",
       "\n",
       "    .dataframe thead th {\n",
       "        text-align: right;\n",
       "    }\n",
       "</style>\n",
       "<table border=\"1\" class=\"dataframe\">\n",
       "  <thead>\n",
       "    <tr style=\"text-align: right;\">\n",
       "      <th></th>\n",
       "      <th>id</th>\n",
       "      <th>class</th>\n",
       "      <th>class1</th>\n",
       "      <th>class2</th>\n",
       "      <th>class3</th>\n",
       "      <th>class4</th>\n",
       "      <th>class5</th>\n",
       "    </tr>\n",
       "  </thead>\n",
       "  <tbody>\n",
       "    <tr>\n",
       "      <th>0</th>\n",
       "      <td>3116945</td>\n",
       "      <td>e</td>\n",
       "      <td>e</td>\n",
       "      <td>e</td>\n",
       "      <td>e</td>\n",
       "      <td>e</td>\n",
       "      <td>e</td>\n",
       "    </tr>\n",
       "    <tr>\n",
       "      <th>1</th>\n",
       "      <td>3116946</td>\n",
       "      <td>e</td>\n",
       "      <td>p</td>\n",
       "      <td>p</td>\n",
       "      <td>p</td>\n",
       "      <td>p</td>\n",
       "      <td>p</td>\n",
       "    </tr>\n",
       "    <tr>\n",
       "      <th>2</th>\n",
       "      <td>3116947</td>\n",
       "      <td>e</td>\n",
       "      <td>p</td>\n",
       "      <td>p</td>\n",
       "      <td>p</td>\n",
       "      <td>p</td>\n",
       "      <td>p</td>\n",
       "    </tr>\n",
       "    <tr>\n",
       "      <th>3</th>\n",
       "      <td>3116948</td>\n",
       "      <td>e</td>\n",
       "      <td>p</td>\n",
       "      <td>p</td>\n",
       "      <td>p</td>\n",
       "      <td>p</td>\n",
       "      <td>p</td>\n",
       "    </tr>\n",
       "    <tr>\n",
       "      <th>4</th>\n",
       "      <td>3116949</td>\n",
       "      <td>e</td>\n",
       "      <td>e</td>\n",
       "      <td>e</td>\n",
       "      <td>e</td>\n",
       "      <td>e</td>\n",
       "      <td>e</td>\n",
       "    </tr>\n",
       "  </tbody>\n",
       "</table>\n",
       "</div>"
      ],
      "text/plain": [
       "        id class class1 class2 class3 class4 class5\n",
       "0  3116945     e      e      e      e      e      e\n",
       "1  3116946     e      p      p      p      p      p\n",
       "2  3116947     e      p      p      p      p      p\n",
       "3  3116948     e      p      p      p      p      p\n",
       "4  3116949     e      e      e      e      e      e"
      ]
     },
     "execution_count": 9,
     "metadata": {},
     "output_type": "execute_result"
    }
   ],
   "source": [
    "sub.head()"
   ]
  },
  {
   "cell_type": "code",
   "execution_count": 10,
   "metadata": {},
   "outputs": [],
   "source": [
    "result_6 = predictor.predict(test_df, model='LightGBM_BAG_L3')\n",
    "result_7 = predictor.predict(test_df, model='NeuralNetFastAI_BAG_L2')"
   ]
  },
  {
   "cell_type": "code",
   "execution_count": 16,
   "metadata": {},
   "outputs": [],
   "source": [
    "sub['class6'] = result_6\n",
    "sub['class7'] = result_7"
   ]
  },
  {
   "cell_type": "code",
   "execution_count": 17,
   "metadata": {},
   "outputs": [],
   "source": [
    "sub['class1'] = sub['class1'].map({'e':0, 'p':1})\n",
    "sub['class2'] = sub['class2'].map({'e':0, 'p':1})\n",
    "sub['class3'] = sub['class3'].map({'e':0, 'p':1})\n",
    "sub['class4'] = sub['class4'].map({'e':0, 'p':1})\n",
    "sub['class5'] = sub['class5'].map({'e':0, 'p':1})\n",
    "sub['class6'] = sub['class6'].map({'e':0, 'p':1})\n",
    "sub['class7'] = sub['class7'].map({'e':0, 'p':1})"
   ]
  },
  {
   "cell_type": "code",
   "execution_count": 18,
   "metadata": {},
   "outputs": [
    {
     "data": {
      "text/html": [
       "<div>\n",
       "<style scoped>\n",
       "    .dataframe tbody tr th:only-of-type {\n",
       "        vertical-align: middle;\n",
       "    }\n",
       "\n",
       "    .dataframe tbody tr th {\n",
       "        vertical-align: top;\n",
       "    }\n",
       "\n",
       "    .dataframe thead th {\n",
       "        text-align: right;\n",
       "    }\n",
       "</style>\n",
       "<table border=\"1\" class=\"dataframe\">\n",
       "  <thead>\n",
       "    <tr style=\"text-align: right;\">\n",
       "      <th></th>\n",
       "      <th>id</th>\n",
       "      <th>class</th>\n",
       "      <th>class1</th>\n",
       "      <th>class2</th>\n",
       "      <th>class3</th>\n",
       "      <th>class4</th>\n",
       "      <th>class5</th>\n",
       "      <th>class6</th>\n",
       "      <th>class7</th>\n",
       "    </tr>\n",
       "  </thead>\n",
       "  <tbody>\n",
       "    <tr>\n",
       "      <th>0</th>\n",
       "      <td>3116945</td>\n",
       "      <td>e</td>\n",
       "      <td>0</td>\n",
       "      <td>0</td>\n",
       "      <td>0</td>\n",
       "      <td>0</td>\n",
       "      <td>0</td>\n",
       "      <td>0</td>\n",
       "      <td>0</td>\n",
       "    </tr>\n",
       "    <tr>\n",
       "      <th>1</th>\n",
       "      <td>3116946</td>\n",
       "      <td>e</td>\n",
       "      <td>1</td>\n",
       "      <td>1</td>\n",
       "      <td>1</td>\n",
       "      <td>1</td>\n",
       "      <td>1</td>\n",
       "      <td>1</td>\n",
       "      <td>1</td>\n",
       "    </tr>\n",
       "    <tr>\n",
       "      <th>2</th>\n",
       "      <td>3116947</td>\n",
       "      <td>e</td>\n",
       "      <td>1</td>\n",
       "      <td>1</td>\n",
       "      <td>1</td>\n",
       "      <td>1</td>\n",
       "      <td>1</td>\n",
       "      <td>1</td>\n",
       "      <td>1</td>\n",
       "    </tr>\n",
       "    <tr>\n",
       "      <th>3</th>\n",
       "      <td>3116948</td>\n",
       "      <td>e</td>\n",
       "      <td>1</td>\n",
       "      <td>1</td>\n",
       "      <td>1</td>\n",
       "      <td>1</td>\n",
       "      <td>1</td>\n",
       "      <td>1</td>\n",
       "      <td>1</td>\n",
       "    </tr>\n",
       "    <tr>\n",
       "      <th>4</th>\n",
       "      <td>3116949</td>\n",
       "      <td>e</td>\n",
       "      <td>0</td>\n",
       "      <td>0</td>\n",
       "      <td>0</td>\n",
       "      <td>0</td>\n",
       "      <td>0</td>\n",
       "      <td>0</td>\n",
       "      <td>0</td>\n",
       "    </tr>\n",
       "  </tbody>\n",
       "</table>\n",
       "</div>"
      ],
      "text/plain": [
       "        id class  class1  class2  class3  class4  class5  class6  class7\n",
       "0  3116945     e       0       0       0       0       0       0       0\n",
       "1  3116946     e       1       1       1       1       1       1       1\n",
       "2  3116947     e       1       1       1       1       1       1       1\n",
       "3  3116948     e       1       1       1       1       1       1       1\n",
       "4  3116949     e       0       0       0       0       0       0       0"
      ]
     },
     "execution_count": 18,
     "metadata": {},
     "output_type": "execute_result"
    }
   ],
   "source": [
    "sub.head()"
   ]
  },
  {
   "cell_type": "code",
   "execution_count": 22,
   "metadata": {},
   "outputs": [
    {
     "data": {
      "text/plain": [
       "0          e\n",
       "1          e\n",
       "2          e\n",
       "3          e\n",
       "4          e\n",
       "          ..\n",
       "2077959    e\n",
       "2077960    e\n",
       "2077961    e\n",
       "2077962    e\n",
       "2077963    e\n",
       "Name: class, Length: 2077964, dtype: object"
      ]
     },
     "execution_count": 22,
     "metadata": {},
     "output_type": "execute_result"
    }
   ],
   "source": [
    "sub.iloc[:, 1]"
   ]
  },
  {
   "cell_type": "code",
   "execution_count": 41,
   "metadata": {},
   "outputs": [],
   "source": [
    "sub['class'] = (sub.iloc[:, 2]+sub.iloc[:, 3]+sub.iloc[:, 4]+sub.iloc[:, 5]+sub.iloc[:, 6])/5"
   ]
  },
  {
   "cell_type": "code",
   "execution_count": 42,
   "metadata": {},
   "outputs": [
    {
     "data": {
      "text/plain": [
       "0    0.0\n",
       "1    1.0\n",
       "2    1.0\n",
       "3    1.0\n",
       "4    0.0\n",
       "Name: class, dtype: float64"
      ]
     },
     "execution_count": 42,
     "metadata": {},
     "output_type": "execute_result"
    }
   ],
   "source": [
    "sub['class'].head()"
   ]
  },
  {
   "cell_type": "code",
   "execution_count": 43,
   "metadata": {},
   "outputs": [],
   "source": [
    "# Create masks for conditions\n",
    "mask_greater_equal = sub['class'] >= 0.5\n",
    "mask_less = sub['class'] < 0.5\n",
    "\n",
    "# Apply modifications\n",
    "sub.loc[mask_greater_equal, 'class'] = 'p'\n",
    "sub.loc[mask_less, 'class'] = 'e'"
   ]
  },
  {
   "cell_type": "code",
   "execution_count": 44,
   "metadata": {},
   "outputs": [
    {
     "data": {
      "text/plain": [
       "0    e\n",
       "1    p\n",
       "2    p\n",
       "3    p\n",
       "4    e\n",
       "5    e\n",
       "6    e\n",
       "7    p\n",
       "8    p\n",
       "9    e\n",
       "Name: class, dtype: object"
      ]
     },
     "execution_count": 44,
     "metadata": {},
     "output_type": "execute_result"
    }
   ],
   "source": [
    "sub['class'].head(10)"
   ]
  },
  {
   "cell_type": "code",
   "execution_count": null,
   "metadata": {},
   "outputs": [],
   "source": [
    "test_result = []\n",
    "for i in range(0, 5):\n",
    "    test_result.append(xgb_list[i].predict(test_df))\n",
    "\n",
    "final = np.average(test_result, axis = 0)\n",
    "final = np.where(final>=0.5, 'p', 'e')\n",
    "\n",
    "sub['class'] = final\n",
    "sub.to_csv('sub_Xgb.csv', index = False)"
   ]
  },
  {
   "cell_type": "code",
   "execution_count": 45,
   "metadata": {},
   "outputs": [
    {
     "data": {
      "text/html": [
       "<div>\n",
       "<style scoped>\n",
       "    .dataframe tbody tr th:only-of-type {\n",
       "        vertical-align: middle;\n",
       "    }\n",
       "\n",
       "    .dataframe tbody tr th {\n",
       "        vertical-align: top;\n",
       "    }\n",
       "\n",
       "    .dataframe thead th {\n",
       "        text-align: right;\n",
       "    }\n",
       "</style>\n",
       "<table border=\"1\" class=\"dataframe\">\n",
       "  <thead>\n",
       "    <tr style=\"text-align: right;\">\n",
       "      <th></th>\n",
       "      <th>id</th>\n",
       "      <th>class</th>\n",
       "    </tr>\n",
       "  </thead>\n",
       "  <tbody>\n",
       "    <tr>\n",
       "      <th>0</th>\n",
       "      <td>3116945</td>\n",
       "      <td>e</td>\n",
       "    </tr>\n",
       "    <tr>\n",
       "      <th>1</th>\n",
       "      <td>3116946</td>\n",
       "      <td>p</td>\n",
       "    </tr>\n",
       "    <tr>\n",
       "      <th>2</th>\n",
       "      <td>3116947</td>\n",
       "      <td>p</td>\n",
       "    </tr>\n",
       "    <tr>\n",
       "      <th>3</th>\n",
       "      <td>3116948</td>\n",
       "      <td>p</td>\n",
       "    </tr>\n",
       "    <tr>\n",
       "      <th>4</th>\n",
       "      <td>3116949</td>\n",
       "      <td>e</td>\n",
       "    </tr>\n",
       "  </tbody>\n",
       "</table>\n",
       "</div>"
      ],
      "text/plain": [
       "        id class\n",
       "0  3116945     e\n",
       "1  3116946     p\n",
       "2  3116947     p\n",
       "3  3116948     p\n",
       "4  3116949     e"
      ]
     },
     "execution_count": 45,
     "metadata": {},
     "output_type": "execute_result"
    }
   ],
   "source": [
    "res = pd.read_csv(sub_path)\n",
    "# sub.to_csv('submission.csv', index=False)\n",
    "res['class'] = sub['class']\n",
    "res.head()"
   ]
  },
  {
   "cell_type": "code",
   "execution_count": 46,
   "metadata": {},
   "outputs": [],
   "source": [
    "res.to_csv('automl_ensemble5_v4.csv', index=False)"
   ]
  },
  {
   "cell_type": "code",
   "execution_count": null,
   "metadata": {},
   "outputs": [],
   "source": []
  }
 ],
 "metadata": {
  "kernelspec": {
   "display_name": ".gluonvenv",
   "language": "python",
   "name": "python3"
  },
  "language_info": {
   "codemirror_mode": {
    "name": "ipython",
    "version": 3
   },
   "file_extension": ".py",
   "mimetype": "text/x-python",
   "name": "python",
   "nbconvert_exporter": "python",
   "pygments_lexer": "ipython3",
   "version": "3.10.14"
  }
 },
 "nbformat": 4,
 "nbformat_minor": 2
}
